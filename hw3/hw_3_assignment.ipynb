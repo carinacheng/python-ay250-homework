{
 "cells": [
  {
   "cell_type": "markdown",
   "metadata": {},
   "source": [
    "# Interaction with the World Homework (#3)\n",
    "Python Computing for Data Science (c) J Bloom, UC Berkeley 2018\n",
    "\n",
    "Due Tuesday 2pm, Feb 20, 2018"
   ]
  },
  {
   "cell_type": "markdown",
   "metadata": {},
   "source": [
    "# 1) Monty: The Python Siri\n",
    "\n",
    "Let's make a Siri-like program (call it Monty!) with the following properties:\n",
    "   - record your voice command\n",
    "   - use a webservice to parse that sound file into text\n",
    "   - based on what the text, take three different types of actions:\n",
    "       - send an email to yourself\n",
    "       - do some math\n",
    "       - tell a joke\n",
    "\n",
    "So for example, if you say \"Monty: email me with subject hello and body goodbye\", it will email you with the appropriate subject and body. If you say \"Monty: tell me a joke\" then it will go to the web and find a joke and print it for you. If you say, \"Monty: calculate two times three\" it should response with printing the number 6.\n",
    "\n",
    "Hint: you can use speed-to-text apps like Houndify (or, e.g., Google Speech https://cloud.google.com/speech/) to return the text (but not do the actions). You'll need to sign up for a free API and then follow documentation instructions for using the service within Python. "
   ]
  },
  {
   "cell_type": "code",
   "execution_count": 1,
   "metadata": {},
   "outputs": [
    {
     "name": "stdout",
     "output_type": "stream",
     "text": [
      "Recording...\n",
      "1.0\n",
      "2.0\n",
      "3.0\n",
      "4.0\n",
      "5.0\n",
      "* done recording\n",
      "\n",
      "Writing My_Audio.wav\n",
      "My Audio: tell me a joke\n",
      "Monty Response: Here's a joke:\n",
      "\tQ: Why did the banana go to the doctor?\n",
      "\tA: It wasn’t peeling well\n",
      "Recording...\n",
      "1.0\n",
      "2.0\n",
      "3.0\n",
      "4.0\n",
      "5.0\n",
      "* done recording\n",
      "\n",
      "Writing My_Audio.wav\n",
      "My Audio: send me an email with subject hello and body goodbye\n",
      "Monty Response: Sent you an email with subject 'hello' and body 'goodbye'\n",
      "Recording...\n",
      "1.0\n",
      "2.0\n",
      "3.0\n",
      "4.0\n",
      "5.0\n",
      "* done recording\n",
      "\n",
      "Writing My_Audio.wav\n",
      "My Audio: what is one hundred factorial\n",
      "Monty Response: The answer is 93326215443944152681699238856266700490715968264381621468592963895217599993229915608941463976156518286253697920827223758251185210916864000000000000000000000000\n"
     ]
    }
   ],
   "source": [
    "import pyaudio\n",
    "import houndify\n",
    "import wave\n",
    "import numpy as np\n",
    "import wolframalpha\n",
    "import requests\n",
    "from bs4 import BeautifulSoup\n",
    "import smtplib\n",
    "from email.mime.multipart import MIMEMultipart\n",
    "from email.mime import text as mimetext\n",
    "from email.utils import COMMASPACE, formatdate\n",
    "\n",
    "class MyListener(houndify.HoundListener): # extending the class\n",
    "    #def onPartialTranscript(self, transcript):\n",
    "        #print(\"Partial transcript: \" + transcript)\n",
    "    #def onFinalResponse(self, response):\n",
    "        #print(\"Final response: \" + str(response))\n",
    "    def onError(self, err):\n",
    "        print(\"Error: \" + str(err))\n",
    "\n",
    "def record_audio(length): # record an audio snippet\n",
    "    chunk = 1024\n",
    "    FORMAT = pyaudio.paInt16\n",
    "    CHANNELS = 1\n",
    "    RATE = 16000 # compatible with Houndify\n",
    "    RECORD_SECONDS = length\n",
    "    WAVE_OUTPUT_FILENAME='My_Audio.wav'\n",
    "    p = pyaudio.PyAudio()\n",
    "    stream = p.open(format = FORMAT,\n",
    "        channels = CHANNELS,\n",
    "        rate = RATE,\n",
    "        input = True,\n",
    "        frames_per_buffer = chunk)\n",
    "    all = []\n",
    "    print(\"Recording...\")\n",
    "    for i in range(0, int(RATE / chunk * RECORD_SECONDS)):\n",
    "        if i%np.round(RATE/chunk) == 0: print(i/np.round(RATE/chunk)+1) # print seconds\n",
    "        data = stream.read(chunk)\n",
    "        all.append(data)\n",
    "    print(\"* done recording\\n\")\n",
    "    stream.close()\n",
    "    p.terminate()\n",
    "    data = b\"\".join(all)\n",
    "    wf = wave.open(WAVE_OUTPUT_FILENAME, \"wb\")\n",
    "    wf.setnchannels(CHANNELS)\n",
    "    wf.setsampwidth(p.get_sample_size(FORMAT))\n",
    "    wf.setframerate(RATE)\n",
    "    wf.writeframes(data)\n",
    "    print(\"Writing\",WAVE_OUTPUT_FILENAME)\n",
    "    wf.close()\n",
    "    return WAVE_OUTPUT_FILENAME\n",
    "\n",
    "def parse_audio(audio): # parse an audio file to text\n",
    "    BUFFER_SIZE = 512\n",
    "    clientId = \"P6RXoXz6B477vU4eg5AB5Q==\"\n",
    "    clientKey = \"WlkneGAZZKw713g5V3wuf5olyXXdSRePX86Hp16fY-mka71pW7jZF_ILb80KbVi8cFEKv1tzbfq_kTvkDKzcsg==\"\n",
    "    userId = \"test_user\"\n",
    "    client = houndify.StreamingHoundClient(clientId, clientKey, userId, sampleRate=8000)\n",
    "    client.setSampleRate(audio.getframerate())\n",
    "    client.start(MyListener())\n",
    "    while True: # load in audio\n",
    "        samples = audio.readframes(BUFFER_SIZE)\n",
    "        if len(samples) == 0: break\n",
    "        if client.fill(samples): break\n",
    "    result = client.finish() # returns either final response or error\n",
    "    text = result['Disambiguation']['ChoiceData'][0]['Transcription'] # parse transcript\n",
    "    return text\n",
    "\n",
    "def mail(sender, pwd, to, subject, text): # simple email function\n",
    "    msg = MIMEMultipart()\n",
    "    msg[\"From\"] = sender\n",
    "    msg[\"To\"] = COMMASPACE.join(to)\n",
    "    msg[\"Date\"] = formatdate(localtime=True)\n",
    "    msg[\"Subject\"] = subject\n",
    "    msg.attach(mimetext.MIMEText(text))\n",
    "    mailServer = smtplib.SMTP(\"smtp.gmail.com\", 587)\n",
    "    mailServer.starttls()\n",
    "    mailServer.login(sender, pwd)\n",
    "    mailServer.sendmail(sender, to, msg.as_string())\n",
    "    mailServer.close()\n",
    "\n",
    "def tell_joke(): # find a joke on the web\n",
    "    req = requests.get(f\"https://www.rd.com/jokes/\") # XXX a finite sample of jokes to choose from\n",
    "    soup = BeautifulSoup(req.text,\"html.parser\")\n",
    "    jokes = soup.findAll('p')\n",
    "    qs = [] # questions\n",
    "    ans = [] # answers\n",
    "    for joke in jokes:\n",
    "        line = joke.get_text()\n",
    "        if 'Q.' in line or 'Q:' in line: qs.append(line)\n",
    "        if 'A.' in line or 'A:' in line: ans.append(line)\n",
    "    size = len(qs)\n",
    "    rand = np.random.randint(0,size,1)\n",
    "    return str(np.array(qs)[rand][0]), str(np.array(ans)[rand][0])\n",
    "\n",
    "def send_email(text): # send an email \n",
    "    if 'subject' not in text or 'body' not in text:\n",
    "        print(\"ERROR: Must specify subject and body.\")\n",
    "    sub = text.split('subject')[1]\n",
    "    if 'body' in sub: \n",
    "        body = sub.split('body')[1]\n",
    "        if 'and' in sub: sub = 'and'.join(sub.split('body')[0].split('and')[:-1]) # remove 'and' if needed\n",
    "    else: \n",
    "        body = text.split('subject')[0].split('body')[1]\n",
    "        if 'and' in body: body = 'and'.join(body.split('and')[:-1]) # remove 'and' if needed\n",
    "    if sub[0] == ' ': sub = sub[1:] # get rid of extra white space\n",
    "    if sub[-1] == ' ': sub = sub[:-1]\n",
    "    if body[0] == ' ': body = body[1:]\n",
    "    if body[-1] == ' ': body = body[:-1]\n",
    "    # sending now\n",
    "    mail(sender=\"bogopawz@gmail.com\", pwd=\"XXX\", to=[\"ccheng@berkeley.edu\",], subject=sub, text=body)\n",
    "    return sub,body\n",
    "\n",
    "def do_math(text): # solve a math problem\n",
    "    client = wolframalpha.Client(\"P3E9HW-4VLH6UTJ7V\") # Wolfram Alpha Client\n",
    "    ans = client.query(text)\n",
    "    return ans\n",
    "    \n",
    "def get_response(text): # get Monty response\n",
    "    if 'joke' in text: # print out a joke\n",
    "        joke_q, joke_a = tell_joke()\n",
    "        ans = str(\"Here's a joke:\\n\\t\" + joke_q + '\\n\\t' + joke_a)\n",
    "    elif 'email' in text: # send e-mail\n",
    "        subject,body = send_email(text)\n",
    "        ans = str(\"Sent you an email with subject '\" + subject + \"' and body '\" + body + \"'\")\n",
    "    else: # do math\n",
    "        ans = do_math(text)\n",
    "        ans = str(\"The answer is \" + str(ans['pod'][1]['subpod']['plaintext'])) # parse answer\n",
    "    return ans\n",
    "\n",
    "# Main program\n",
    "voice = record_audio(5)\n",
    "text = parse_audio(wave.open(voice))\n",
    "print(\"My Audio:\",text)\n",
    "print(\"Monty Response:\",get_response(text))\n",
    "\n",
    "voice = record_audio(5)\n",
    "text = parse_audio(wave.open(voice))\n",
    "print(\"My Audio:\",text)\n",
    "print(\"Monty Response:\",get_response(text))\n",
    "\n",
    "voice = record_audio(5)\n",
    "text = parse_audio(wave.open(voice))\n",
    "print(\"My Audio:\",text)\n",
    "print(\"Monty Response:\",get_response(text))"
   ]
  },
  {
   "cell_type": "markdown",
   "metadata": {},
   "source": [
    "# 2) Write a program that identifies musical notes from sound (AIFF) files. \n",
    "\n",
    "  - Run it on the supplied sound files (12) and report your program’s results. \n",
    "  - Use the labeled sounds (4) to make sure it works correctly. The provided sound files contain 1-3 simultaneous notes from different organs.\n",
    "  - Save copies of any example plots to illustrate how your program works.\n",
    "  \n",
    "  https://piazza.com/berkeley/spring2018/ay250class13410/resources -> Homeworks -> hw3_sound_files.zip"
   ]
  },
  {
   "cell_type": "markdown",
   "metadata": {},
   "source": [
    "Hints: You’ll want to decompose the sound into a frequency power spectrum. Use a Fast Fourier Transform. Be care about “unpacking” the string hexcode into python data structures. The sound files use 32 bit data. Play around with what happens when you convert the string data to other integer sizes, or signed vs unsigned integers. Also, beware of harmonics."
   ]
  },
  {
   "cell_type": "code",
   "execution_count": 116,
   "metadata": {},
   "outputs": [
    {
     "name": "stdout",
     "output_type": "stream",
     "text": [
      "Max freq on x-axis: -0.009765625\n",
      "Max freq in Hz: 430.6640625\n",
      "Note is: A4\n"
     ]
    },
    {
     "data": {
      "image/png": "[encoded data removed]",
      "text/plain": [
       "<matplotlib.figure.Figure at 0x181fcef908>"
      ]
     },
     "metadata": {},
     "output_type": "display_data"
    },
    {
     "name": "stdout",
     "output_type": "stream",
     "text": [
      "Max freq on x-axis: 0.0107421875\n",
      "Max freq in Hz: 473.73046875\n",
      "Note is: A#4\n"
     ]
    },
    {
     "data": {
      "image/png": "[encoded data removed]",
      "text/plain": [
       "<matplotlib.figure.Figure at 0x1823462e48>"
      ]
     },
     "metadata": {},
     "output_type": "display_data"
    },
    {
     "name": "stdout",
     "output_type": "stream",
     "text": [
      "Max freq on x-axis: -0.01171875\n",
      "Max freq in Hz: 516.796875\n",
      "Note is: C5\n"
     ]
    },
    {
     "data": {
      "image/png": "[encoded data removed]",
      "text/plain": [
       "<matplotlib.figure.Figure at 0x181ffabb00>"
      ]
     },
     "metadata": {},
     "output_type": "display_data"
    },
    {
     "name": "stdout",
     "output_type": "stream",
     "text": [
      "Max freq on x-axis: -0.015625\n",
      "Max freq in Hz: 689.0625\n",
      "Note is: F5\n"
     ]
    },
    {
     "data": {
      "image/png": "[encoded data removed]",
      "text/plain": [
       "<matplotlib.figure.Figure at 0x1823c40cc0>"
      ]
     },
     "metadata": {},
     "output_type": "display_data"
    }
   ],
   "source": [
    "import numpy as np\n",
    "import matplotlib.pyplot as plt\n",
    "import glob\n",
    "import pyaudio\n",
    "from math import log2\n",
    "import aifc\n",
    "\n",
    "def get_spectrum(data): # get frequency spectrum\n",
    "    fft_data = np.abs(np.fft.fft(data))**2\n",
    "    freqs = np.fft.fftfreq(data.size) #, 1.0/rate)\n",
    "    return freqs, fft_data\n",
    "    \n",
    "def get_audio(file): # read audio file\n",
    "    CHUNK = 1024\n",
    "    wf = aifc.open(file, 'rb')\n",
    "    p = pyaudio.PyAudio()\n",
    "    stream = p.open(format=p.get_format_from_width(wf.getsampwidth()),\n",
    "                    channels=wf.getnchannels(),\n",
    "                    rate=wf.getframerate(), output=True)\n",
    "    data = wf.readframes(CHUNK)\n",
    "    #while len(data) > 0:\n",
    "    #    stream.write(data)\n",
    "    #    data = wf.readframes(CHUNK)\n",
    "    #stream.stop_stream()\n",
    "    #stream.close()\n",
    "    p.terminate()\n",
    "    return wf.getframerate(), np.fromstring(data, '>i4')\n",
    "\n",
    "def pitch_to_note(freq): # freq in [Hz] to note\n",
    "    A4 = 440\n",
    "    C0 = A4*pow(2, -4.75)\n",
    "    name = [\"C\", \"C#\", \"D\", \"D#\", \"E\", \"F\", \"F#\", \"G\", \"G#\", \"A\", \"A#\", \"B\"]\n",
    "    h = round(12*log2(freq/C0))\n",
    "    octave = h // 12\n",
    "    n = h % 12\n",
    "    return name[n] + str(octave)\n",
    "\n",
    "# Main program  \n",
    "for file in glob.glob('sound_files/*Organ.aif'): #sound_files/*.aif'):\n",
    "    rate, data = get_audio(file)\n",
    "    freqs, fft_data = get_spectrum(data)\n",
    "    freqs, fft_data = np.fft.fftshift(freqs), np.fft.fftshift(fft_data)\n",
    "    low_ind = int(len(fft_data)/3)\n",
    "    hi_ind = int(2*len(fft_data)/3)\n",
    "    freqs, fft_data = freqs[low_ind:hi_ind], fft_data[low_ind:hi_ind]\n",
    "    max_freq = np.abs(freqs[np.argmax(fft_data)] * rate) # Hz\n",
    "    print(\"Max freq on x-axis:\",freqs[np.argmax(fft_data)])\n",
    "    print(\"Max freq in Hz:\",max_freq)\n",
    "    print(\"Note is:\",pitch_to_note(max_freq))\n",
    "    plt.plot(freqs,fft_data)\n",
    "    #plt.xlim(-0.01,0.01)\n",
    "    #Pxx, freqs, bins, im = plt.specgram(data, NFFT=2048*2, Fs=rate, noverlap=512, cmap=plt.cm.viridis)\n",
    "    #plt.xlabel(\"Time [sec]\")\n",
    "    #plt.ylabel(\"Frequency [Hz]\")\n",
    "    plt.title(file)\n",
    "    plt.show()"
   ]
  },
  {
   "cell_type": "code",
   "execution_count": null,
   "metadata": {},
   "outputs": [],
   "source": []
  }
 ],
 "metadata": {
  "kernelspec": {
   "display_name": "Python 3",
   "language": "python",
   "name": "python3"
  },
  "language_info": {
   "codemirror_mode": {
    "name": "ipython",
    "version": 3
   },
   "file_extension": ".py",
   "mimetype": "text/x-python",
   "name": "python",
   "nbconvert_exporter": "python",
   "pygments_lexer": "ipython3",
   "version": "3.6.4"
  }
 },
 "nbformat": 4,
 "nbformat_minor": 1
}
