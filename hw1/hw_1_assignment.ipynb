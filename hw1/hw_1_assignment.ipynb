{
 "cells": [
  {
   "cell_type": "markdown",
   "metadata": {},
   "source": [
    "# Homework 1: Numpy, Scipy, Pandas\n",
    "\n",
    "### Due Friday Sept 9, 2016 @ 9am\n"
   ]
  },
  {
   "cell_type": "markdown",
   "metadata": {},
   "source": [
    "## #0: Get set up with your environment to work on and submit homework\n",
    "\n",
    "a. Create a new homework repository at github\n",
    "\n",
    "<img src=\"data/screenshot_1.png\">\n",
    "\n",
    "Name your repo something sensible (e.g. python-ay250-homeworks). Given your Berkeley affiliation you should be able to get private repos if you'd like.\n",
    "\n",
    "<img src=\"data/screenshot_2.png\">\n",
    "\n",
    "\n",
    "b. Clone this repo locally and make a directory for this week's homework:\n",
    "\n",
    "```bash\n",
    "cd /class/directories ## this will be different on your machine...whereever you want to keep your work.\n",
    "\n",
    "# change <username> to your github username:\n",
    "git clone https://github.com/<username>/python-ay250-homework.git\n",
    "cd python-ay250-homework\n",
    "mkdir hw_1\n",
    "echo \"hw_1 README\" >> hw_1/README.md\n",
    "git add hw_1/README.md\n",
    "git commit hw_1/README.md -m \"added hw_1 directory\"\n",
    "git push\n",
    "```\n",
    "\n",
    "c. Copy this notebook into your `hw_1` folder from a local version of the python-seminar repo\n",
    "\n",
    "```bash\n",
    "cd /class/directories\n",
    "git clone https://github.com/profjsb/python-seminar.git \n",
    "cd python-seminar\n",
    "git pull\n",
    "cp Homeworks/hw_1/* /class/directories/python-ay250-homework/hw_1/\n",
    "```\n",
    "\n",
    "d. Get working! Be sure to check in your work as often as you'd like\n",
    "\n",
    "```bash\n",
    "cd /class/directories/python-ay250-homework\n",
    "git add hw_1/<whatever>\n",
    "git commit <whatever> -m \"this is a check in\"\n",
    "```\n",
    "\n",
    "e. To submit your work, send us (prof+GSIs) your github handle and repo name for us to clone (you'll need to add us to the repo if you've made a private one)"
   ]
  },
  {
   "cell_type": "markdown",
   "metadata": {},
   "source": [
    "## #1:  Super-resolution imaging \n",
    "\n",
    "Obtaining several snapshots of the same scene, from microscopes to telescopes, is useful for the postprocessing increase of signal to noise: by summing up imaging data we can effectively beat down the noise. Interestingly, if we image the same scene from different vistas we can also improve the clarity of the combined image. Being able to discern features in a scene from this combination effort is sometimes called super-resolution imaging.\n",
    "\n",
    "Here, we'll combine about 4 seconds of a shaky video to reveal the statement on a license plate that is not discernable in any one frame.\n",
    "\n",
    "<img src=\"Data/im2-1.png\">\n",
    "\n",
    "A tarball of the data is at: https://drive.google.com/open?id=0B4vIeCR-xYNnbXFJTTVlVnpUZkk\n",
    "\n",
    "```bash\n",
    "tar -xvzf homework1_data.tgz  # do NOT check this files into git...\n",
    "```"
   ]
  },
  {
   "cell_type": "markdown",
   "metadata": {},
   "source": [
    "**Problem 1** Read in each image into a `numpy` array. Resize each frame to be 3 times larger in each axis (ie. 9 times larger images). Using `scipy.signal.fftconvolve` find the offsets of each frame with respect to the first frame. Report those offsets to 2 decimal places. \n",
    "\n",
    "   - Hint1: you'll need to figure out how to resize a numpy array\n",
    "   - Hint2: you'll want to reverse the second image when doing the convolution: `scipy.signal.fftconvolve(im1, im2[::-1, ::-1])`\n",
    "   - Hint3: you'll need to figure out how to identify the peak of the fft convolution to find the offsets between images"
   ]
  },
  {
   "cell_type": "code",
   "execution_count": 104,
   "metadata": {
    "scrolled": false
   },
   "outputs": [
    {
     "name": "stdout",
     "output_type": "stream",
     "text": [
      "     Image     (x,y) Offset\n"
     ]
    },
    {
     "name": "stderr",
     "output_type": "stream",
     "text": [
      "/anaconda2/envs/conda3/lib/python3.6/site-packages/skimage/transform/_warps.py:84: UserWarning: The default mode, 'constant', will be changed to 'reflect' in skimage 0.15.\n",
      "  warn(\"The default mode, 'constant', will be changed to 'reflect' in \"\n"
     ]
    },
    {
     "name": "stdout",
     "output_type": "stream",
     "text": [
      "Data/im2-1.png   (-39.02, 8.01)\n",
      "Data/im2-10.png   (-8.01, 104.0)\n",
      "Data/im2-11.png  (-165.98, 57.0)\n",
      "Data/im2-12.png   (-23.01, 62.0)\n",
      "Data/im2-13.png  (-105.01, 25.0)\n",
      "Data/im2-14.png    (-8.01, 56.0)\n",
      "Data/im2-15.png  (-18.99, 177.0)\n",
      "Data/im2-16.png   (32.99, 114.0)\n",
      "Data/im2-17.png   (-72.01, 56.0)\n",
      "Data/im2-18.png  (-95.99, 108.0)\n",
      "Data/im2-19.png   (-24.01, 41.0)\n",
      "Data/im2-2.png   (-7.01, 122.0)\n",
      "Data/im2-20.png  (-81.02, -47.99)\n",
      "Data/im2-21.png  (-108.99, 79.0)\n",
      "Data/im2-22.png   (-97.01, 48.0)\n",
      "Data/im2-23.png  (-107.01, 16.0)\n",
      "Data/im2-24.png  (-62.99, 113.0)\n",
      "Data/im2-25.png  (-61.99, 121.0)\n",
      "Data/im2-26.png   (-166.99, 0.0)\n",
      "Data/im2-27.png     (49.0, 46.0)\n",
      "Data/im2-28.png     (56.0, 52.0)\n",
      "Data/im2-29.png   (-0.01, 138.0)\n",
      "Data/im2-3.png    (33.0, 178.0)\n",
      "Data/im2-30.png  (-126.99, 81.0)\n",
      "Data/im2-31.png    (88.0, 113.0)\n",
      "Data/im2-32.png    (16.99, 82.0)\n",
      "Data/im2-33.png  (-56.99, 169.0)\n",
      "Data/im2-34.png   (-112.01, 0.0)\n",
      "Data/im2-35.png   (-0.01, 105.0)\n",
      "Data/im2-36.png   (62.99, 159.0)\n",
      "Data/im2-37.png    (49.99, 99.0)\n",
      "Data/im2-38.png   (-44.01, 55.0)\n",
      "Data/im2-39.png   (135.0, 45.02)\n",
      "Data/im2-4.png     (0.01, 0.01)\n",
      "Data/im2-40.png    (-9.01, 81.0)\n",
      "Data/im2-41.png   (-2.01, 113.0)\n",
      "Data/im2-42.png    (12.99, 92.0)\n",
      "Data/im2-43.png   (-24.01, 80.0)\n",
      "Data/im2-44.png    (10.0, 62.01)\n",
      "Data/im2-45.png   (-147.98, 7.0)\n",
      "Data/im2-46.png   (-92.01, 50.0)\n",
      "Data/im2-47.png   (-98.99, 80.0)\n",
      "Data/im2-48.png   (28.99, 137.0)\n",
      "Data/im2-49.png   (-5.01, 138.0)\n",
      "Data/im2-5.png    (32.98, 7.01)\n",
      "Data/im2-50.png    (7.99, 130.0)\n",
      "Data/im2-51.png   (-58.01, 56.0)\n",
      "Data/im2-52.png  (-141.99, 67.0)\n",
      "Data/im2-53.png   (-31.02, 0.01)\n",
      "Data/im2-54.png  (-136.98, 88.0)\n",
      "Data/im2-55.png   (-37.01, 65.0)\n",
      "Data/im2-56.png  (20.95, -12.98)\n",
      "Data/im2-57.png    (-64.01, 0.0)\n",
      "Data/im2-58.png  (-24.01, 23.01)\n",
      "Data/im2-59.png  (-104.98, 113.0)\n",
      "Data/im2-6.png   (71.99, 134.0)\n",
      "Data/im2-60.png   (-70.01, 23.0)\n",
      "Data/im2-61.png  (-21.99, 196.0)\n",
      "Data/im2-62.png  (-42.99, -48.99)\n",
      "Data/im2-63.png   (-88.01, 29.0)\n",
      "Data/im2-64.png  (-121.99, 48.0)\n",
      "Data/im2-65.png   (-7.01, 16.01)\n",
      "Data/im2-66.png  (-145.02, -8.0)\n",
      "Data/im2-67.png   (35.99, 106.0)\n",
      "Data/im2-68.png  (-58.99, 106.0)\n",
      "Data/im2-69.png   (-56.01, 64.0)\n",
      "Data/im2-7.png   (-120.01, 0.0)\n",
      "Data/im2-70.png     (-0.0, 55.0)\n",
      "Data/im2-71.png    (-3.0, 16.01)\n",
      "Data/im2-72.png   (-10.01, 78.0)\n",
      "Data/im2-73.png  (-109.02, 28.0)\n",
      "Data/im2-74.png  (-57.01, -7.99)\n",
      "Data/im2-75.png     (6.99, 69.0)\n",
      "Data/im2-76.png  (-10.0, -23.99)\n",
      "Data/im2-77.png   (-66.02, 73.0)\n",
      "Data/im2-78.png   (-73.02, 59.0)\n",
      "Data/im2-79.png  (-40.99, 127.0)\n",
      "Data/im2-8.png   (-36.01, 65.0)\n",
      "Data/im2-80.png   (-94.98, 57.0)\n",
      "Data/im2-81.png   (-30.01, 95.0)\n",
      "Data/im2-82.png   (37.99, 144.0)\n",
      "Data/im2-83.png   (-75.01, 54.0)\n",
      "Data/im2-84.png   (0.01, -56.02)\n",
      "Data/im2-85.png    (8.99, 108.0)\n",
      "Data/im2-86.png  (-42.99, 216.0)\n",
      "Data/im2-87.png  (-15.99, 189.0)\n",
      "Data/im2-88.png    (89.99, 66.0)\n",
      "Data/im2-89.png   (-55.01, 15.0)\n",
      "Data/im2-9.png   (-80.02, -0.0)\n",
      "Data/im2-90.png  (89.99, 185.99)\n",
      "Data/im2-91.png    (10.99, 89.0)\n",
      "Data/im2-92.png   (55.99, 113.0)\n",
      "Data/im2-93.png  (-153.98, 80.0)\n",
      "Data/im2-94.png   (46.99, 120.0)\n",
      "Data/im2-95.png    (-55.01, 0.0)\n",
      "Data/im2-96.png  (-19.01, 105.0)\n",
      "Data/im2-97.png   (16.01, 16.01)\n",
      "Data/im2-98.png   (45.99, 145.0)\n",
      "Data/im2-99.png    (-6.01, 93.0)\n"
     ]
    }
   ],
   "source": [
    "import numpy as np\n",
    "import scipy\n",
    "from skimage import io\n",
    "import glob\n",
    "from scipy import signal\n",
    "from skimage.transform import resize\n",
    "import matplotlib.pyplot as plt\n",
    "%matplotlib inline\n",
    "\n",
    "offsets = []\n",
    "print('%10s  %15s' % ('Image','(x,y) Offset'))\n",
    "for f in glob.glob('Data/*png'): # read other images\n",
    "    image = io.imread(f)[:,:,0] # collapse to 2D\n",
    "    image = resize(image, (image.shape[0]*3,image.shape[1]*3)) # re-size image\n",
    "    image = image[146:718,:] # cut off edges manually\n",
    "    centerx = image.shape[1]/2 # location of center pixels\n",
    "    centery = image.shape[0]/2\n",
    "    image -= np.mean(image) # subtract off mean\n",
    "    if f == 'Data/im2-0.png': \n",
    "        first = image # save first image\n",
    "        #plt.imshow(first);plt.plot(centerx,centery,'ko');plt.colorbar();plt.title('first');plt.show()\n",
    "    else: # find offsets\n",
    "        conv = signal.fftconvolve(first, image[::-1, ::-1], mode='same') # convolution\n",
    "        ypeak, xpeak = (np.unravel_index(conv.argmax(), conv.shape)) # find peak pixels\n",
    "        pos_up = (xpeak,ypeak+1) # the four neighboring pixels to use for a weighted avg\n",
    "        pos_down = (xpeak,ypeak-1)\n",
    "        pos_left = (xpeak-1,ypeak)\n",
    "        pos_right = (xpeak+1,ypeak)\n",
    "        xpeak_wgt,ypeak_wgt = (np.array(pos_up)*conv[pos_up]+np.array(pos_down)*conv[pos_down]+np.array(pos_left)*conv[pos_left]+np.array(pos_right)*conv[pos_right]) / (conv[pos_up]+conv[pos_down]+conv[pos_left]+conv[pos_right])\n",
    "        offsetx, offsety = np.round(xpeak_wgt-centerx,2), np.round(ypeak_wgt-centery,2)\n",
    "        offsets.append((offsetx,offsety))\n",
    "        print('%10s  %15s' % (f, (offsetx,offsety)))\n",
    "        #plt.imshow(conv);plt.plot(centerx,centery,'ko');plt.colorbar();plt.show()\n",
    "        #plt.imshow(image);plt.plot(centerx,centery,'ko');plt.colorbar();plt.show()\n"
   ]
  },
  {
   "cell_type": "markdown",
   "metadata": {},
   "source": [
    "**Problem 2** Shift each image to register the frames to the original (expanded in size) frame. You should, in general, be shifting by subpixel offsets. You might want to look at `scipy.ndimage.interpolation.shift`"
   ]
  },
  {
   "cell_type": "code",
   "execution_count": 132,
   "metadata": {},
   "outputs": [
    {
     "name": "stdout",
     "output_type": "stream",
     "text": [
      "Stacking Data/im2-0.png\n",
      "Stacking Data/im2-1.png\n",
      "Stacking Data/im2-10.png\n",
      "Stacking Data/im2-11.png\n"
     ]
    },
    {
     "name": "stderr",
     "output_type": "stream",
     "text": [
      "/anaconda2/envs/conda3/lib/python3.6/site-packages/skimage/transform/_warps.py:84: UserWarning: The default mode, 'constant', will be changed to 'reflect' in skimage 0.15.\n",
      "  warn(\"The default mode, 'constant', will be changed to 'reflect' in \"\n"
     ]
    },
    {
     "name": "stdout",
     "output_type": "stream",
     "text": [
      "Stacking Data/im2-12.png\n",
      "Stacking Data/im2-13.png\n",
      "Stacking Data/im2-14.png\n",
      "Stacking Data/im2-15.png\n",
      "Stacking Data/im2-16.png\n",
      "Stacking Data/im2-17.png\n",
      "Stacking Data/im2-18.png\n",
      "Stacking Data/im2-19.png\n",
      "Stacking Data/im2-2.png\n",
      "Stacking Data/im2-20.png\n",
      "Stacking Data/im2-21.png\n",
      "Stacking Data/im2-22.png\n",
      "Stacking Data/im2-23.png\n",
      "Stacking Data/im2-24.png\n",
      "Stacking Data/im2-25.png\n",
      "Stacking Data/im2-26.png\n",
      "Stacking Data/im2-27.png\n",
      "Stacking Data/im2-28.png\n",
      "Stacking Data/im2-29.png\n",
      "Stacking Data/im2-3.png\n",
      "Stacking Data/im2-30.png\n",
      "Stacking Data/im2-31.png\n",
      "Stacking Data/im2-32.png\n",
      "Stacking Data/im2-33.png\n",
      "Stacking Data/im2-34.png\n",
      "Stacking Data/im2-35.png\n",
      "Stacking Data/im2-36.png\n",
      "Stacking Data/im2-37.png\n",
      "Stacking Data/im2-38.png\n",
      "Stacking Data/im2-39.png\n",
      "Stacking Data/im2-4.png\n",
      "Stacking Data/im2-40.png\n",
      "Stacking Data/im2-41.png\n",
      "Stacking Data/im2-42.png\n",
      "Stacking Data/im2-43.png\n",
      "Stacking Data/im2-44.png\n",
      "Stacking Data/im2-45.png\n",
      "Stacking Data/im2-46.png\n",
      "Stacking Data/im2-47.png\n",
      "Stacking Data/im2-48.png\n",
      "Stacking Data/im2-49.png\n",
      "Stacking Data/im2-5.png\n",
      "Stacking Data/im2-50.png\n",
      "Stacking Data/im2-51.png\n",
      "Stacking Data/im2-52.png\n",
      "Stacking Data/im2-53.png\n",
      "Stacking Data/im2-54.png\n",
      "Stacking Data/im2-55.png\n",
      "Stacking Data/im2-56.png\n",
      "Stacking Data/im2-57.png\n",
      "Stacking Data/im2-58.png\n",
      "Stacking Data/im2-59.png\n",
      "Stacking Data/im2-6.png\n",
      "Stacking Data/im2-60.png\n",
      "Stacking Data/im2-61.png\n",
      "Stacking Data/im2-62.png\n",
      "Stacking Data/im2-63.png\n",
      "Stacking Data/im2-64.png\n",
      "Stacking Data/im2-65.png\n",
      "Stacking Data/im2-66.png\n",
      "Stacking Data/im2-67.png\n",
      "Stacking Data/im2-68.png\n",
      "Stacking Data/im2-69.png\n",
      "Stacking Data/im2-7.png\n",
      "Stacking Data/im2-70.png\n",
      "Stacking Data/im2-71.png\n",
      "Stacking Data/im2-72.png\n",
      "Stacking Data/im2-73.png\n",
      "Stacking Data/im2-74.png\n",
      "Stacking Data/im2-75.png\n",
      "Stacking Data/im2-76.png\n",
      "Stacking Data/im2-77.png\n",
      "Stacking Data/im2-78.png\n",
      "Stacking Data/im2-79.png\n",
      "Stacking Data/im2-8.png\n",
      "Stacking Data/im2-80.png\n",
      "Stacking Data/im2-81.png\n",
      "Stacking Data/im2-82.png\n",
      "Stacking Data/im2-83.png\n",
      "Stacking Data/im2-84.png\n",
      "Stacking Data/im2-85.png\n",
      "Stacking Data/im2-86.png\n",
      "Stacking Data/im2-87.png\n",
      "Stacking Data/im2-88.png\n",
      "Stacking Data/im2-89.png\n",
      "Stacking Data/im2-9.png\n",
      "Stacking Data/im2-90.png\n",
      "Stacking Data/im2-91.png\n",
      "Stacking Data/im2-92.png\n",
      "Stacking Data/im2-93.png\n",
      "Stacking Data/im2-94.png\n",
      "Stacking Data/im2-95.png\n",
      "Stacking Data/im2-96.png\n",
      "Stacking Data/im2-97.png\n",
      "Stacking Data/im2-98.png\n",
      "Stacking Data/im2-99.png\n"
     ]
    }
   ],
   "source": [
    "for ff,f in enumerate(glob.glob('Data/*png')): # read other images\n",
    "    print(\"Stacking\", f)\n",
    "    image = io.imread(f)[:,:,0] # collapse to 2D\n",
    "    image = resize(image, (image.shape[0]*3,image.shape[1]*3)) # re-size image\n",
    "    image = image[146:718,:] # cut off edges manually\n",
    "    if f == 'Data/im2-0.png': \n",
    "        first = image # save first image\n",
    "        combine = first\n",
    "    else: # shift images\n",
    "        offset = offsets[ff-1] # get saved offset\n",
    "        image_shifted = scipy.ndimage.interpolation.shift(image,offset[::-1])\n",
    "        #plt.imshow(image);plt.title(\"original image\");plt.show()\n",
    "        #plt.imshow(image_shifted);plt.title(\"shifted image\");plt.show()\n",
    "        combine += image_shifted"
   ]
  },
  {
   "cell_type": "markdown",
   "metadata": {},
   "source": [
    "**Problem 3** Combine all the registered images to form a super-resolution image. What does the license plate read?"
   ]
  },
  {
   "cell_type": "code",
   "execution_count": 135,
   "metadata": {},
   "outputs": [
    {
     "data": {
      "image/png": "[encoded data removed]",
      "text/plain": [
       "<matplotlib.figure.Figure at 0x1092294e0>"
      ]
     },
     "metadata": {},
     "output_type": "display_data"
    },
    {
     "name": "stdout",
     "output_type": "stream",
     "text": [
      "License reads 'IM A CAR'\n"
     ]
    }
   ],
   "source": [
    "plt.imshow(combine);plt.show()\n",
    "print(\"License reads 'IM A CAR'\")"
   ]
  },
  {
   "cell_type": "markdown",
   "metadata": {},
   "source": [
    "# #2: An elementary introduction to spectral audio compression\n",
    "\n",
    "In this problem, we'll explore the very basics of audio compression in the spectral domain using numpy and scipy. We'll do a bit of visualization with matplotlib, but since that is covered later in the course, we'll provide those functions for you.\n",
    "\n",
    "Audio compression is a large and complex topic, and the design of a format for compressed audio such as the popular [MP3](http://en.wikipedia.org/wiki/MP3) is too complex to cover in detail here. However, we will introduce the basic tools that most such compression formats use, namely:\n",
    "\n",
    "1. Converting the input signal to the frequency domain by taking a Fast Fourier Transform (FFT).\n",
    "\n",
    "2. Dropping information in the frequency domain, resulting in a smaller amount of data.\n",
    "\n",
    "3. Reconstructing back the signal in the time domain from this smaller representation of the signal.\n",
    "\n",
    "Steps 1 and 2 above are the 'encoding' part of signal compression, and step 3 is the 'decoding' part. For this reason, the tools that perform these steps are typically referred to as signal 'codecs', short for encoders/decoders.\n",
    "\n",
    "Note that here we say 'signal': while MP3 is an audio format, the same ideas apply to the compression of digital images with formats such as JPEG and video.  Virtually all multimedia technologies we use today, from audio players to cell phones, digital cameras and YouTubeVideo, are based on sophisticated extensions and applications of these simple ideas."
   ]
  },
  {
   "cell_type": "markdown",
   "metadata": {},
   "source": [
    "Let's first load the plotting tools and importing some tools we'll need later:"
   ]
  },
  {
   "cell_type": "code",
   "execution_count": null,
   "metadata": {
    "collapsed": true
   },
   "outputs": [],
   "source": [
    "%pylab inline\n",
    "import numpy as np\n",
    "import matplotlib.pyplot as plt\n",
    "\n",
    "# we'll need some path manipulations later on\n",
    "import os"
   ]
  },
  {
   "cell_type": "markdown",
   "metadata": {},
   "source": [
    "We define a simple utility function to listen to audio files right in the browser:"
   ]
  },
  {
   "cell_type": "code",
   "execution_count": null,
   "metadata": {
    "collapsed": true
   },
   "outputs": [],
   "source": [
    "def Audio(fname):\n",
    "    \"\"\"Provide a player widget for an audio file.\n",
    "    \n",
    "    Parameters\n",
    "    ==========\n",
    "    fname : string\n",
    "      Filename to be played.\n",
    "      \n",
    "    Warning\n",
    "    =======\n",
    "    \n",
    "    Browsers cache audio very aggressively. If you change an\n",
    "    audio file on disk and are trying to listen to the  new version, you \n",
    "    may want to \n",
    "    \"\"\"\n",
    "    from IPython.display import HTML, display\n",
    "    \n",
    "    # Find out file extension and deduce MIME type for audio format\n",
    "    ext = os.path.splitext(fname)[1].replace('.', '').lower()\n",
    "    mimetype = 'audio/' + ('mpeg' if ext == 'mp3' else ext)\n",
    "    \n",
    "    tpl = \"\"\"<p>{fname}:</p>\n",
    "<audio controls>\n",
    "    <source src=\"files/{fname}\" type=\"{mimetype}\">\n",
    "\n",
    "Your browser does not support the Audio element; you can play \n",
    "<a href=\"files/{fname}\">this file</a> manually.\n",
    "</audio>\n",
    "\"\"\"\n",
    "    display(HTML(tpl.format(**locals())))"
   ]
  },
  {
   "cell_type": "markdown",
   "metadata": {},
   "source": [
    "We also define a convenience wrapper around `plt.specgram`, [matplotlib's spectrogram function](http://matplotlib.org/api/mlab_api.html#matplotlib.mlab.specgram), with a colorbar and control over the color limits displayed. This will make it easier to compare across different signals with the same colors for all inputs."
   ]
  },
  {
   "cell_type": "code",
   "execution_count": null,
   "metadata": {
    "collapsed": true
   },
   "outputs": [],
   "source": [
    "def specgram_cbar(x, title=None, clim=(0, 80) ):\n",
    "    \"\"\"Plot spectrogram with a colorbar and range normalization.\n",
    "    \n",
    "    Call matplotlib's specgram function, with a custom figure size, \n",
    "    automatic colobar, title and custom color limits to ease \n",
    "    comparison across multiple figures.\n",
    "    \n",
    "    Parameters\n",
    "    ==========\n",
    "    x : array\n",
    "      One-dimensional array whose spectrogram should be plotted.\n",
    "      \n",
    "    title : string\n",
    "      Optional title for the figure.\n",
    "      \n",
    "    clim : 2-tuple\n",
    "      Range for the color limits plotted in the spectrogram.\n",
    "    \"\"\"\n",
    "    f = plt.figure(figsize=(10,3))\n",
    "    plt.specgram(x)\n",
    "    plt.colorbar()\n",
    "    plt.clim(*clim)\n",
    "    if title is not None:\n",
    "        plt.title(title)\n",
    "    plt.show()"
   ]
  },
  {
   "cell_type": "markdown",
   "metadata": {},
   "source": [
    "**Problem 1**: Use the `Audio` function above to listen to the signal we will be experimenting with, a simple voice recording stored in the file `Homeworks/hw1/data/voice.wav`.\n",
    "\n",
    "Note: if your browser doesn't support audio, you may try a different browser.   We've tested current versions of Chrome and Firefox, and it works OK with both."
   ]
  },
  {
   "cell_type": "code",
   "execution_count": null,
   "metadata": {
    "collapsed": true
   },
   "outputs": [],
   "source": [
    "# your code here"
   ]
  },
  {
   "cell_type": "markdown",
   "metadata": {},
   "source": [
    "**Problem 2**: Write a function to compress a 1-d signal by dropping a fraction of its spectrum. \n",
    "\n",
    "You can drop the smallest components by setting their values to zero.\n",
    "\n",
    "*Hints*: \n",
    "\n",
    "- look at the `np.fft` module, keeping in mind that your input signal is real.\n",
    "- look at the `argsort` method of numpy arrays."
   ]
  },
  {
   "cell_type": "code",
   "execution_count": null,
   "metadata": {
    "collapsed": true
   },
   "outputs": [],
   "source": [
    "def compress_signal(x, fraction):\n",
    "    \"\"\"Compress an input signal by dropping a fraction of its spectrum.\n",
    "    \n",
    "    Parameters\n",
    "    ==========\n",
    "    x : array\n",
    "      1-d real array to be compressed\n",
    "      \n",
    "    fraction : float\n",
    "      A number in the [0,1] range indicating which fraction of the spectrum\n",
    "      of x should be zeroed out (1 means zero out the entire signal).\n",
    "      \n",
    "    Returns\n",
    "    =======\n",
    "    x_approx : array\n",
    "      1-d real array reconstructed after having compressed the input.\n",
    "    \"\"\"\n",
    "    # your code here"
   ]
  },
  {
   "cell_type": "markdown",
   "metadata": {},
   "source": [
    "As a quick visual check (not that this is *not* a formal test of correctness), experiment with a simple random signal by changing the compression ratio and plotting both the signal and the compressed version:"
   ]
  },
  {
   "cell_type": "code",
   "execution_count": null,
   "metadata": {
    "collapsed": true
   },
   "outputs": [],
   "source": [
    "x = np.random.rand(128)"
   ]
  },
  {
   "cell_type": "code",
   "execution_count": null,
   "metadata": {
    "collapsed": true
   },
   "outputs": [],
   "source": [
    "fraction = 0.6  # play changing this in the 0-1 range\n",
    "\n",
    "xa = compress_signal(x, fraction)\n",
    "\n",
    "plt.figure(figsize=(12,3))\n",
    "plt.plot(x, alpha=0.5, lw=2, label='original')\n",
    "plt.plot(xa, lw=2, label='compressed {0:.0%}'.format(fraction))\n",
    "plt.legend();"
   ]
  },
  {
   "cell_type": "markdown",
   "metadata": {},
   "source": [
    "**Problem 3**: Write a function that will compress an audio file by a dropping a fraction of its spectrum, writing the output to a new file.\n",
    "\n",
    "If the input file is named `a.wav` and the compression fraction is 0.9, the output file should be named `a_comp_0.9.wav`.\n",
    "\n",
    "*Hints:* \n",
    "\n",
    "- look at the `scipy.io` module for routines dealing with files in `wav` format.\n",
    "\n",
    "- you may need to use the `astype` method of numpy arrays to get the correct data type for `wav` files."
   ]
  },
  {
   "cell_type": "code",
   "execution_count": null,
   "metadata": {
    "collapsed": true
   },
   "outputs": [],
   "source": [
    "def compress_wav(fname, fraction):\n",
    "    \"\"\"Compress an audio signal stored in an input wav file.\n",
    "    \n",
    "    The compressed signal is returned as a numpy array and automatically written \n",
    "    to disk to a new wav file.\n",
    "    \n",
    "    Parameters\n",
    "    ==========\n",
    "    fname : string\n",
    "      Name of the input wav file\n",
    "      \n",
    "    fraction : float\n",
    "      Fraction of input data to keep.\n",
    "      \n",
    "    Returns\n",
    "    =======\n",
    "    rate : int\n",
    "      Bit rate of the input signal.\n",
    "\n",
    "    x : array\n",
    "      Raw data of the original input signal.\n",
    "      \n",
    "    x_approx : array\n",
    "      Raw data of the compressed signal.\n",
    "      \n",
    "    new_fname : string\n",
    "      Auto-generated filename of the compressed signal.\n",
    "    \"\"\"\n",
    "    \n",
    "    # your code here"
   ]
  },
  {
   "cell_type": "markdown",
   "metadata": {},
   "source": [
    "**Problem 4**: Study the effect of compressing the input file at different ratios: 0.1, 0.5, 0.75, 0.9, 0.95, 0.99.\n",
    "\n",
    "Using the `OrderedDict` class from the [Python collections module](http://docs.python.org/2/library/collections.html#collections.OrderedDict), store the uncompressed signal as well as the compressed array and filename for each compression ratio.\n",
    "\n",
    "You will create an `OrderedDict` called `voices`, with:\n",
    "\n",
    "- keys: compression ratios\n",
    "- values: pairs of (x, filename) where x is the compressed audio and filename is the name of the compressed file."
   ]
  },
  {
   "cell_type": "code",
   "execution_count": null,
   "metadata": {
    "collapsed": true
   },
   "outputs": [],
   "source": [
    "# your code here"
   ]
  },
  {
   "cell_type": "markdown",
   "metadata": {},
   "source": [
    "**Problem 5**: Loop over the `voices` dict, and for each one generate an audio player as well as a spectrogram.  Observe how the spectrogram changes, and listen to each file.  At what ratio do you stop understanding the recording?"
   ]
  },
  {
   "cell_type": "code",
   "execution_count": null,
   "metadata": {
    "collapsed": true
   },
   "outputs": [],
   "source": [
    "# your code here"
   ]
  },
  {
   "cell_type": "markdown",
   "metadata": {},
   "source": [
    "# #3: Armchair Astronomer\n",
    "\n",
    "Often times, people act as good sensors of the physical universe. We can use Google Trends data to help us determine some fundamental parameters of the Solar System.\n",
    "\n",
    "**Problem 1**: Using just the CSV file we created in the pandas lecture (`merged_data.csv`) and some frequency analysis tools in `scipy` to determine:\n",
    "\n",
    "   - the number of days in a year\n",
    "   - the period of the moon's orbit around the Earth\n",
    "   \n",
    "Hint: `from scipy.signal.spectral import lombscargle`"
   ]
  },
  {
   "cell_type": "code",
   "execution_count": null,
   "metadata": {
    "collapsed": true
   },
   "outputs": [],
   "source": [
    "# your code here"
   ]
  },
  {
   "cell_type": "markdown",
   "metadata": {},
   "source": [
    "# #4: Reproducing some insights about the Election\n",
    "\n",
    "Nate (\"not a genius, just a Bayesian\") Silver writes often about polls and their utility of predicting elections. One of the things he emphasized during the 2016 campaign is that even \"large\" polls of people with a consistent lead for one candidate will show wild swings in any given window in time.\n",
    "\n",
    "**Problem 1**: Using Pandas and `numpy`, try to reproduce this plot from a Nate Silve Tweet qualitatively using the same assumptions.\n",
    "\n",
    "<img src=\"https://www.evernote.com/l/AUU-KkH3Z-lBdKokzCzVIUe53YZLQ9e_AuMB/image.png\">\n",
    "\n",
    "https://twitter.com/NateSilver538/status/769565612955824128"
   ]
  },
  {
   "cell_type": "code",
   "execution_count": null,
   "metadata": {
    "collapsed": true
   },
   "outputs": [],
   "source": [
    "# your code here"
   ]
  },
  {
   "cell_type": "markdown",
   "metadata": {},
   "source": [
    "**Problem 2**: Clearly, even with a 6% point lead, there's a chance that this sort of poll would show the other person in the lead. How much would ahead (in percent) would a candidate need to be to have a tracking poll never show the other candidate to be ahead over the course of a year (in your simulation)?"
   ]
  },
  {
   "cell_type": "code",
   "execution_count": null,
   "metadata": {
    "collapsed": true
   },
   "outputs": [],
   "source": [
    "# your code here"
   ]
  },
  {
   "cell_type": "markdown",
   "metadata": {},
   "source": [
    "**Problem 3**: With a 3 and 6% lead, how many people would need to be polled in 1 day to have the rolling 5-day poll result always show the leader ahead (over a year)?"
   ]
  },
  {
   "cell_type": "code",
   "execution_count": null,
   "metadata": {
    "collapsed": true
   },
   "outputs": [],
   "source": [
    "# your code here"
   ]
  }
 ],
 "metadata": {
  "kernelspec": {
   "display_name": "Python 3",
   "language": "python",
   "name": "python3"
  },
  "language_info": {
   "codemirror_mode": {
    "name": "ipython",
    "version": 3
   },
   "file_extension": ".py",
   "mimetype": "text/x-python",
   "name": "python",
   "nbconvert_exporter": "python",
   "pygments_lexer": "ipython3",
   "version": "3.6.4"
  }
 },
 "nbformat": 4,
 "nbformat_minor": 1
}
